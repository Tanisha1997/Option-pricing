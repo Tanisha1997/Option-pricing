{
 "cells": [
  {
   "cell_type": "code",
   "execution_count": 12,
   "metadata": {},
   "outputs": [
    {
     "name": "stdout",
     "output_type": "stream",
     "text": [
      "[*********************100%***********************]  1 of 1 completed\n"
     ]
    },
    {
     "data": {
      "text/html": [
       "<div>\n",
       "<style scoped>\n",
       "    .dataframe tbody tr th:only-of-type {\n",
       "        vertical-align: middle;\n",
       "    }\n",
       "\n",
       "    .dataframe tbody tr th {\n",
       "        vertical-align: top;\n",
       "    }\n",
       "\n",
       "    .dataframe thead th {\n",
       "        text-align: right;\n",
       "    }\n",
       "</style>\n",
       "<table border=\"1\" class=\"dataframe\">\n",
       "  <thead>\n",
       "    <tr style=\"text-align: right;\">\n",
       "      <th></th>\n",
       "      <th>Open</th>\n",
       "      <th>High</th>\n",
       "      <th>Low</th>\n",
       "      <th>Close</th>\n",
       "      <th>Adj Close</th>\n",
       "      <th>Volume</th>\n",
       "    </tr>\n",
       "    <tr>\n",
       "      <th>Date</th>\n",
       "      <th></th>\n",
       "      <th></th>\n",
       "      <th></th>\n",
       "      <th></th>\n",
       "      <th></th>\n",
       "      <th></th>\n",
       "    </tr>\n",
       "  </thead>\n",
       "  <tbody>\n",
       "    <tr>\n",
       "      <td>2020-03-02</td>\n",
       "      <td>165.309998</td>\n",
       "      <td>172.919998</td>\n",
       "      <td>162.309998</td>\n",
       "      <td>172.789993</td>\n",
       "      <td>170.657700</td>\n",
       "      <td>71030800</td>\n",
       "    </tr>\n",
       "    <tr>\n",
       "      <td>2020-03-03</td>\n",
       "      <td>173.800003</td>\n",
       "      <td>175.000000</td>\n",
       "      <td>162.259995</td>\n",
       "      <td>164.509995</td>\n",
       "      <td>162.479874</td>\n",
       "      <td>71677000</td>\n",
       "    </tr>\n",
       "    <tr>\n",
       "      <td>2020-03-04</td>\n",
       "      <td>168.490005</td>\n",
       "      <td>170.699997</td>\n",
       "      <td>165.619995</td>\n",
       "      <td>170.550003</td>\n",
       "      <td>168.445358</td>\n",
       "      <td>49814400</td>\n",
       "    </tr>\n",
       "    <tr>\n",
       "      <td>2020-03-05</td>\n",
       "      <td>166.050003</td>\n",
       "      <td>170.869995</td>\n",
       "      <td>165.690002</td>\n",
       "      <td>166.270004</td>\n",
       "      <td>164.218155</td>\n",
       "      <td>47817300</td>\n",
       "    </tr>\n",
       "    <tr>\n",
       "      <td>2020-03-06</td>\n",
       "      <td>162.610001</td>\n",
       "      <td>163.110001</td>\n",
       "      <td>156.000000</td>\n",
       "      <td>161.570007</td>\n",
       "      <td>159.576172</td>\n",
       "      <td>72821100</td>\n",
       "    </tr>\n",
       "    <tr>\n",
       "      <td>...</td>\n",
       "      <td>...</td>\n",
       "      <td>...</td>\n",
       "      <td>...</td>\n",
       "      <td>...</td>\n",
       "      <td>...</td>\n",
       "      <td>...</td>\n",
       "    </tr>\n",
       "    <tr>\n",
       "      <td>2021-02-22</td>\n",
       "      <td>237.419998</td>\n",
       "      <td>237.929993</td>\n",
       "      <td>232.399994</td>\n",
       "      <td>234.509995</td>\n",
       "      <td>233.969742</td>\n",
       "      <td>36446900</td>\n",
       "    </tr>\n",
       "    <tr>\n",
       "      <td>2021-02-23</td>\n",
       "      <td>230.330002</td>\n",
       "      <td>234.830002</td>\n",
       "      <td>228.729996</td>\n",
       "      <td>233.270004</td>\n",
       "      <td>232.732605</td>\n",
       "      <td>30228700</td>\n",
       "    </tr>\n",
       "    <tr>\n",
       "      <td>2021-02-24</td>\n",
       "      <td>230.009995</td>\n",
       "      <td>235.199997</td>\n",
       "      <td>229.000000</td>\n",
       "      <td>234.550003</td>\n",
       "      <td>234.009659</td>\n",
       "      <td>26339700</td>\n",
       "    </tr>\n",
       "    <tr>\n",
       "      <td>2021-02-25</td>\n",
       "      <td>232.080002</td>\n",
       "      <td>234.589996</td>\n",
       "      <td>227.880005</td>\n",
       "      <td>228.990005</td>\n",
       "      <td>228.462463</td>\n",
       "      <td>39542200</td>\n",
       "    </tr>\n",
       "    <tr>\n",
       "      <td>2021-02-26</td>\n",
       "      <td>231.529999</td>\n",
       "      <td>235.369995</td>\n",
       "      <td>229.539993</td>\n",
       "      <td>232.380005</td>\n",
       "      <td>231.844650</td>\n",
       "      <td>37819200</td>\n",
       "    </tr>\n",
       "  </tbody>\n",
       "</table>\n",
       "<p>251 rows × 6 columns</p>\n",
       "</div>"
      ],
      "text/plain": [
       "                  Open        High         Low       Close   Adj Close  \\\n",
       "Date                                                                     \n",
       "2020-03-02  165.309998  172.919998  162.309998  172.789993  170.657700   \n",
       "2020-03-03  173.800003  175.000000  162.259995  164.509995  162.479874   \n",
       "2020-03-04  168.490005  170.699997  165.619995  170.550003  168.445358   \n",
       "2020-03-05  166.050003  170.869995  165.690002  166.270004  164.218155   \n",
       "2020-03-06  162.610001  163.110001  156.000000  161.570007  159.576172   \n",
       "...                ...         ...         ...         ...         ...   \n",
       "2021-02-22  237.419998  237.929993  232.399994  234.509995  233.969742   \n",
       "2021-02-23  230.330002  234.830002  228.729996  233.270004  232.732605   \n",
       "2021-02-24  230.009995  235.199997  229.000000  234.550003  234.009659   \n",
       "2021-02-25  232.080002  234.589996  227.880005  228.990005  228.462463   \n",
       "2021-02-26  231.529999  235.369995  229.539993  232.380005  231.844650   \n",
       "\n",
       "              Volume  \n",
       "Date                  \n",
       "2020-03-02  71030800  \n",
       "2020-03-03  71677000  \n",
       "2020-03-04  49814400  \n",
       "2020-03-05  47817300  \n",
       "2020-03-06  72821100  \n",
       "...              ...  \n",
       "2021-02-22  36446900  \n",
       "2021-02-23  30228700  \n",
       "2021-02-24  26339700  \n",
       "2021-02-25  39542200  \n",
       "2021-02-26  37819200  \n",
       "\n",
       "[251 rows x 6 columns]"
      ]
     },
     "execution_count": 12,
     "metadata": {},
     "output_type": "execute_result"
    }
   ],
   "source": [
    "import datetime\n",
    "import pandas as pd\n",
    "import fix_yahoo_finance as yf\n",
    "stocks = [\"MSFT\"]\n",
    "start = datetime.datetime(2020,3,1)\n",
    "end = datetime.datetime(2021,3,1)\n",
    "data = yf.download(stocks, start=start, end=end)\n",
    "data"
   ]
  },
  {
   "cell_type": "code",
   "execution_count": 13,
   "metadata": {},
   "outputs": [
    {
     "data": {
      "image/png": "[encoded data removed]",
      "text/plain": [
       "<Figure size 720x504 with 1 Axes>"
      ]
     },
     "metadata": {
      "needs_background": "light"
     },
     "output_type": "display_data"
    }
   ],
   "source": [
    "import matplotlib.pyplot as plt\n",
    "%matplotlib inline\n",
    "# Plot the adjusted close price\n",
    "data['Adj Close'].plot(figsize=(10, 7))\n",
    "# Define the label for the title of the figure\n",
    "plt.title(\"Adjusted Close Price of %s\" % ticker, fontsize=16)\n",
    "# Define the labels for x-axis and y-axis\n",
    "plt.ylabel('Price', fontsize=14)\n",
    "plt.xlabel('Year', fontsize=14)\n",
    "# Plot the grid lines\n",
    "plt.grid(which=\"major\", color='k', linestyle='-.', linewidth=0.5)\n",
    "# Show the plot\n",
    "plt.show()"
   ]
  },
  {
   "cell_type": "code",
   "execution_count": 14,
   "metadata": {},
   "outputs": [],
   "source": [
    "import numpy as np\n",
    "\n",
    "data['Log returns'] = np.log(data['Adj Close']/data['Adj Close'].shift())"
   ]
  },
  {
   "cell_type": "code",
   "execution_count": 15,
   "metadata": {},
   "outputs": [
    {
     "data": {
      "text/plain": [
       "0.4291919358217868"
      ]
     },
     "execution_count": 15,
     "metadata": {},
     "output_type": "execute_result"
    }
   ],
   "source": [
    "volatility_12m = data['Log returns'].std()*252**.5\n",
    "volatility_12m"
   ]
  },
  {
   "cell_type": "code",
   "execution_count": 17,
   "metadata": {},
   "outputs": [
    {
     "data": {
      "text/plain": [
       "Text(0.5, 1.0, 'MSFT 12m volatility: 42.92%')"
      ]
     },
     "execution_count": 17,
     "metadata": {},
     "output_type": "execute_result"
    },
    {
     "data": {
      "image/png": "[encoded data removed]",
      "text/plain": [
       "<Figure size 432x288 with 1 Axes>"
      ]
     },
     "metadata": {
      "needs_background": "light"
     },
     "output_type": "display_data"
    }
   ],
   "source": [
    "str_vol = str(round(volatility_12m, 4)*100)\n",
    "\n",
    "fig, ax = plt.subplots()\n",
    "data['Log returns'].hist(ax=ax, bins=50, alpha=0.6, color='b')\n",
    "ax.set_xlabel(\"Log return\")\n",
    "ax.set_ylabel(\"Freq of log return\")\n",
    "ax.set_title(\"MSFT 12m volatility: \" + str_vol + \"%\")"
   ]
  },
  {
   "cell_type": "code",
   "execution_count": 18,
   "metadata": {},
   "outputs": [
    {
     "data": {
      "text/plain": [
       "0.3034845282501669"
      ]
     },
     "execution_count": 18,
     "metadata": {},
     "output_type": "execute_result"
    }
   ],
   "source": [
    "volatility_6m = data['Log returns'].std()*126**.5\n",
    "volatility_6m"
   ]
  },
  {
   "cell_type": "code",
   "execution_count": 19,
   "metadata": {},
   "outputs": [
    {
     "data": {
      "text/plain": [
       "Text(0.5, 1.0, 'MSFT 6m volatility: 30.349999999999998%')"
      ]
     },
     "execution_count": 19,
     "metadata": {},
     "output_type": "execute_result"
    },
    {
     "data": {
      "image/png": "[encoded data removed]",
      "text/plain": [
       "<Figure size 432x288 with 1 Axes>"
      ]
     },
     "metadata": {
      "needs_background": "light"
     },
     "output_type": "display_data"
    }
   ],
   "source": [
    "str_vol = str(round(volatility_6m, 4)*100)\n",
    "\n",
    "fig, ax = plt.subplots()\n",
    "data['Log returns'].hist(ax=ax, bins=50, alpha=0.6, color='b')\n",
    "ax.set_xlabel(\"Log return\")\n",
    "ax.set_ylabel(\"Freq of log return\")\n",
    "ax.set_title(\"MSFT 6m volatility: \" + str_vol + \"%\")"
   ]
  },
  {
   "cell_type": "code",
   "execution_count": 22,
   "metadata": {},
   "outputs": [
    {
     "name": "stdout",
     "output_type": "stream",
     "text": [
      "Price: 134.7647\n"
     ]
    }
   ],
   "source": [
    "#Monte Carlo Simulation (MC)\n",
    "import datetime\n",
    "import math\n",
    "from random import gauss\n",
    "from math import exp, sqrt\n",
    "\n",
    "def generate_asset_price(S,v,r,T):\n",
    "    return S * exp((r - 0.5 * v**2) * T + v * sqrt(T) * gauss(0,1.0))\n",
    "\n",
    "def call_payoff(S_T,K):\n",
    "    return max(0.0,S_T-K)\n",
    "\n",
    "S = 170.6577 # underlying price\n",
    "v = 0.4292 # vol of 42.92%\n",
    "r = 0.0014 # rate of 0.14%\n",
    "T = 30\n",
    "K = 173\n",
    "simulations = 90000\n",
    "payoffs = []\n",
    "discount_factor = math.exp(-r * T)\n",
    "\n",
    "for i in list(range(simulations)):\n",
    "    S_T = generate_asset_price(S,v,r,T)\n",
    "    payoffs.append(\n",
    "        call_payoff(S_T, K)\n",
    "    )\n",
    "\n",
    "price = discount_factor * (sum(payoffs) / float(simulations))\n",
    "print('Price: %.4f' % price)"
   ]
  },
  {
   "cell_type": "code",
   "execution_count": 23,
   "metadata": {},
   "outputs": [
    {
     "name": "stdout",
     "output_type": "stream",
     "text": [
      "Price: 0.01403785\n"
     ]
    }
   ],
   "source": [
    "#Black Schole Model (BSM)\n",
    "import random\n",
    "from math import exp, sqrt\n",
    "\n",
    "def gbm(S, v, r, T):\n",
    "    return S * exp((r - 0.5 * v**2) * T + v * sqrt(T) * random.gauss(0,1.0))\n",
    "\n",
    "def binary_call_payoff(K, S_T):\n",
    "    if S_T >= K:\n",
    "        return 1.0\n",
    "    else:\n",
    "        return 0.0\n",
    "\n",
    "# parameters\n",
    "S = 170.6577 # underlying price\n",
    "v = 0.4292 # vol of 42.92%\n",
    "r = 0.0014 # rate of 0.14%\n",
    "K = 173\n",
    "maturity = 30\n",
    "K = 1960 # strike\n",
    "simulations = 50000\n",
    "payoffs = 0.0\n",
    "\n",
    "# run simultaion\n",
    "for i in list(range(simulations)):\n",
    "    S_T = gbm(S, v, r, maturity)\n",
    "    payoffs += binary_call_payoff(K, S_T)\n",
    "\n",
    "# find prices\n",
    "option_price = exp(-r * maturity) * (payoffs / float(simulations))\n",
    "\n",
    "print('Price: %.8f' % option_price)"
   ]
  },
  {
   "cell_type": "code",
   "execution_count": 24,
   "metadata": {},
   "outputs": [
    {
     "name": "stdout",
     "output_type": "stream",
     "text": [
      "d1=  1.187479945963986\n",
      "d2=  -1.163345270848187\n"
     ]
    }
   ],
   "source": [
    "from scipy.stats import norm\n",
    "import numpy as np\n",
    "def d(sigma,S,K,r,T):\n",
    "    d1=1/(sigma*np.sqrt(T))*(np.log(S/K)+(r+sigma**2/2)*T)\n",
    "    d2=d1-sigma*np.sqrt(T)\n",
    "    return d1,d2\n",
    "\n",
    "def Price(S, K, r, sigma, T,d1,d2):\n",
    "    P=-norm.cdf(-d1)*S+norm.cdf(-d2)*K*np.exp(-r*T)\n",
    "    return P\n",
    "def delta(d_1):\n",
    "    return -norm.cdf(-d_1)\n",
    "#Input parameters:\n",
    "S = 170.6577 # underlying price\n",
    "sigma = 0.4292 # vol of 42.92%\n",
    "r = 0.0014 # rate of 0.14%\n",
    "K = 173\n",
    "T=30 #time to maturity\n",
    "d1,d2=d(sigma,S,K,r,T)\n",
    "print(\"d1= \", d1)\n",
    "print(\"d2= \", d2)"
   ]
  },
  {
   "cell_type": "code",
   "execution_count": 25,
   "metadata": {},
   "outputs": [
    {
     "name": "stdout",
     "output_type": "stream",
     "text": [
      "Delta=  -0.1175191810991087\n"
     ]
    }
   ],
   "source": [
    "delta_put=delta(d1)\n",
    "print(\"Delta= \", delta_put)"
   ]
  },
  {
   "cell_type": "code",
   "execution_count": 26,
   "metadata": {},
   "outputs": [
    {
     "name": "stdout",
     "output_type": "stream",
     "text": [
      "Gamma=  0.0004913179602996873\n"
     ]
    }
   ],
   "source": [
    "def gamma(d2,S,K,sigma,r,T):\n",
    "    return(K*np.exp(-r*T)*(norm.pdf(d2)/(S**2*sigma*np.sqrt(T))))\n",
    "print(\"Gamma= \", gamma(d2,S,K,sigma,r,T))"
   ]
  },
  {
   "cell_type": "code",
   "execution_count": 27,
   "metadata": {},
   "outputs": [
    {
     "name": "stdout",
     "output_type": "stream",
     "text": [
      "Theta=  -1.114139774749777\n"
     ]
    }
   ],
   "source": [
    "def theta(d1,d2,S,K,sigma,r,T):\n",
    "    theta=-S*sigma*norm.pdf(-d1)/(2*np.sqrt(T))+r*K*np.exp(-r*T)*norm.cdf(-d2)\n",
    "    return theta\n",
    "print(\"Theta= \", theta(d1,d2,S,K,sigma,r,T))    "
   ]
  },
  {
   "cell_type": "code",
   "execution_count": 28,
   "metadata": {},
   "outputs": [
    {
     "name": "stdout",
     "output_type": "stream",
     "text": [
      "Rho=  -4367.681470223772\n"
     ]
    }
   ],
   "source": [
    "def rho(K,r,T,d2):\n",
    "    rho=-K*T*np.exp(-r*T)*norm.cdf(-d2)\n",
    "    return rho\n",
    "print(\"Rho= \", rho(K,r,T,d2))"
   ]
  },
  {
   "cell_type": "code",
   "execution_count": 29,
   "metadata": {},
   "outputs": [
    {
     "name": "stdout",
     "output_type": "stream",
     "text": [
      "Vega=  184.24486160674095\n"
     ]
    }
   ],
   "source": [
    "def vega(K,r,T,d2):\n",
    "    vega=K*np.exp(-r*T)*norm.pdf(d2)*np.sqrt(T)\n",
    "    return vega\n",
    "print(\"Vega= \", vega(K,r,T,d2))"
   ]
  },
  {
   "cell_type": "code",
   "execution_count": null,
   "metadata": {},
   "outputs": [],
   "source": []
  },
  {
   "cell_type": "code",
   "execution_count": null,
   "metadata": {},
   "outputs": [],
   "source": []
  }
 ],
 "metadata": {
  "kernelspec": {
   "display_name": "Python 3",
   "language": "python",
   "name": "python3"
  },
  "language_info": {
   "codemirror_mode": {
    "name": "ipython",
    "version": 3
   },
   "file_extension": ".py",
   "mimetype": "text/x-python",
   "name": "python",
   "nbconvert_exporter": "python",
   "pygments_lexer": "ipython3",
   "version": "3.7.4"
  }
 },
 "nbformat": 4,
 "nbformat_minor": 5
}
